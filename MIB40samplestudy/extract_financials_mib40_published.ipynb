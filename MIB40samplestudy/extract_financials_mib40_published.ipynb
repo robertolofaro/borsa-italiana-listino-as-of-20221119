{
 "cells": [
  {
   "cell_type": "markdown",
   "id": "c56bcb20",
   "metadata": {},
   "source": [
    "# YahooFinance data extraction and formatting\n",
    "\n",
    "## Purpose\n",
    "\n",
    "The purpose of this notebook is to allow retrieving financial data from Yahoo in a consistent way across multiple companies\n",
    "\n",
    "It was created to support a data project started in 2022, and this version was created on 2025-06-01 to focus on just the companeis within the MIB40 index of the [Borsa Italiana](https://www.borsaitaliana.it/homepage/homepage.htm)\n",
    "\n",
    "## Structure\n",
    "\n",
    "* Section A: reading a CSV containing the list, and loading a Pandas DataFrame\n",
    "* Section B: data retrieval\n",
    "\n",
    "The data retrieval section allows also a \"dry run\" limited to three records- see the comment at the top of he section.\n",
    "\n",
    "## Results\n",
    "\n",
    "The following data are extracted:\n",
    "* income statement\n",
    "* balance sheet\n",
    "* cashflow\n",
    "* sustainability\n",
    "* information about the company, restructured for readability; the list of officers is kept as a data structure, to ease future processing (e.g. collating data from multiple companies, and seen who serves in multiple companies)\n",
    "\n",
    "Each file generated from the data retrieved follows the same name convention:\n",
    "\n",
    "<code>ISIN\\_Yahooticker\\_filecontent.CSV</code>\n",
    "\n",
    "| filename part | description |\n",
    "| --- | --- |\n",
    "| ISIN | it is the unique code identifying the listed company, prefixed by the 2-letter ISO code of the country |\n",
    "| Yahooticker | it is the \"nickname\" used by Yahoo |\n",
    "| file content | one of the following: incomestatement, balancesheet, cashflow, sustainability, info |\n",
    "\n",
    "The library <code>yfinance</code> allows also e.g. extracting price, dividends, news, etc- please search online for further information\n",
    "\n",
    "Note: the version used in 2022 for the initial version had a different syntax and structure- the library is actively maintained\n"
   ]
  },
  {
   "cell_type": "markdown",
   "id": "deaefe79",
   "metadata": {},
   "source": [
    "# Section A: reading a CSV containing the list"
   ]
  },
  {
   "cell_type": "code",
   "execution_count": 1,
   "id": "58fd6b03",
   "metadata": {},
   "outputs": [],
   "source": [
    "import pandas as pd\n",
    "import yfinance as yf\n",
    "import time"
   ]
  },
  {
   "cell_type": "code",
   "execution_count": 2,
   "id": "478b9dae",
   "metadata": {},
   "outputs": [
    {
     "name": "stdout",
     "output_type": "stream",
     "text": [
      "0.2.61\n"
     ]
    }
   ],
   "source": [
    "print(yf.__version__)"
   ]
  },
  {
   "cell_type": "code",
   "execution_count": 3,
   "id": "2ffd6b51",
   "metadata": {},
   "outputs": [],
   "source": [
    "# read in the reference table containing three columns: name, isin, yahoo ticker code\n",
    "referencefile = \"listino_catalog_kaggle_yahoo_mib40.csv\"\n",
    "datainput = pd.read_csv(referencefile, header=None)\n",
    "datainput.columns = [\"name\",\"isin\",\"yahoolink\",\"yahoocode\"]\n",
    "datainput.dropna(inplace=True)"
   ]
  },
  {
   "cell_type": "markdown",
   "id": "da12cdf5",
   "metadata": {},
   "source": [
    "# Section B: data retrieval"
   ]
  },
  {
   "cell_type": "code",
   "execution_count": 4,
   "id": "8db66855",
   "metadata": {},
   "outputs": [
    {
     "name": "stdout",
     "output_type": "stream",
     "text": [
      "A2A.MI\n",
      "AMP.MI\n",
      "AZM.MI\n",
      "total: 40\n",
      "process: 3\n"
     ]
    }
   ],
   "source": [
    "# number of companies processed\n",
    "counter = 0\n",
    "\n",
    "# where the retrieved data will be saved\n",
    "sharedpath = \"./financials/rawdata/\"\n",
    "\n",
    "# for test, just two records are processed\n",
    "testprocess = True\n",
    "\n",
    "for index, row in datainput.iterrows():\n",
    "    # process all the records - showing the names\n",
    "    print(row['yahoocode'])\n",
    "    \n",
    "    # selecting the item\n",
    "    ISINticker = row['yahoocode']\n",
    "    \n",
    "    # read from yahoo\n",
    "    ISIN = yf.Ticker(ISINticker)\n",
    "        \n",
    "    # income statement\n",
    "    tempfilename = sharedpath + row['isin'] + \"_\" + ISINticker + \"_incomestatement.csv\"\n",
    "    incomestatement = ISIN.get_financials()\n",
    "    incomestatement.to_csv(tempfilename)\n",
    "\n",
    "    # balance sheet\n",
    "    tempfilename = sharedpath + row['isin'] + \"_\" + ISINticker + \"_balancesheet.csv\"\n",
    "    balancesheet = ISIN.get_balance_sheet()\n",
    "    balancesheet.to_csv(tempfilename)\n",
    "    \n",
    "    # cashflow\n",
    "    tempfilename = sharedpath + row['isin'] + \"_\" + ISINticker + \"_cashflow.csv\"\n",
    "    cashflow = ISIN.get_cashflow()\n",
    "    cashflow.to_csv(tempfilename)\n",
    "        \n",
    "    # sustainability\n",
    "    tempfilename = sharedpath + row['isin'] + \"_\" + ISINticker + \"_sustainability.csv\"\n",
    "    sustainability = ISIN.get_sustainability()\n",
    "    sustainability.to_csv(tempfilename)\n",
    "    \n",
    "    # information about the company and its organizational structure\n",
    "    tempfilename = sharedpath + row['isin'] + \"_\" + ISINticker + \"_info.txt\"\n",
    "    info = ISIN.get_info()\n",
    "    text = \"\"\n",
    "    for key, value in info.items():\n",
    "        text = text + str(key) + \":\\n \" + str(value) + \"\\n\\n\"  \n",
    "    with open(tempfilename, 'w') as file:\n",
    "        file.write(text)\n",
    "    \n",
    "    time.sleep(5)\n",
    "    \n",
    "    counter += 1\n",
    "    \n",
    "    if testprocess and (counter > 2):\n",
    "        break\n",
    "\n",
    "print(\"total:\", len(datainput))\n",
    "print(\"process:\", counter)"
   ]
  },
  {
   "cell_type": "code",
   "execution_count": null,
   "id": "9739ec60",
   "metadata": {},
   "outputs": [],
   "source": []
  }
 ],
 "metadata": {
  "kernelspec": {
   "display_name": "Python 3 (ipykernel)",
   "language": "python",
   "name": "python3"
  },
  "language_info": {
   "codemirror_mode": {
    "name": "ipython",
    "version": 3
   },
   "file_extension": ".py",
   "mimetype": "text/x-python",
   "name": "python",
   "nbconvert_exporter": "python",
   "pygments_lexer": "ipython3",
   "version": "3.12.3"
  }
 },
 "nbformat": 4,
 "nbformat_minor": 5
}
